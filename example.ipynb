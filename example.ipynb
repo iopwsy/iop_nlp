{
 "cells": [
  {
   "cell_type": "markdown",
   "metadata": {},
   "source": [
    "### An example for `https://github.com/iopwsy/iop_NLP`"
   ]
  },
  {
   "cell_type": "code",
   "execution_count": 1,
   "metadata": {},
   "outputs": [
    {
     "name": "stdout",
     "output_type": "stream",
     "text": [
      "2.6.0\n",
      "/device:GPU:0\n"
     ]
    }
   ],
   "source": [
    "import tensorflow as tf\n",
    "print(tf.__version__)\n",
    "print(tf.test.gpu_device_name())"
   ]
  },
  {
   "cell_type": "code",
   "execution_count": 2,
   "metadata": {},
   "outputs": [
    {
     "name": "stdout",
     "output_type": "stream",
     "text": [
      "Epoch 1/15\n",
      "33/33 - 3s - loss: 0.6654 - accuracy: 0.6429 - val_loss: 0.6454 - val_accuracy: 0.6541\n",
      "Epoch 2/15\n",
      "33/33 - 0s - loss: 0.6294 - accuracy: 0.6676 - val_loss: 0.6350 - val_accuracy: 0.6541\n",
      "Epoch 3/15\n",
      "33/33 - 0s - loss: 0.6118 - accuracy: 0.6676 - val_loss: 0.6136 - val_accuracy: 0.6541\n",
      "Epoch 4/15\n",
      "33/33 - 0s - loss: 0.5770 - accuracy: 0.6676 - val_loss: 0.5683 - val_accuracy: 0.6541\n",
      "Epoch 5/15\n",
      "33/33 - 0s - loss: 0.4991 - accuracy: 0.7086 - val_loss: 0.4774 - val_accuracy: 0.7406\n",
      "Epoch 6/15\n",
      "33/33 - 0s - loss: 0.3814 - accuracy: 0.8571 - val_loss: 0.3709 - val_accuracy: 0.8692\n",
      "Epoch 7/15\n",
      "33/33 - 0s - loss: 0.2620 - accuracy: 0.9467 - val_loss: 0.2815 - val_accuracy: 0.9268\n",
      "Epoch 8/15\n",
      "33/33 - 0s - loss: 0.1730 - accuracy: 0.9686 - val_loss: 0.2281 - val_accuracy: 0.9224\n",
      "Epoch 9/15\n",
      "33/33 - 0s - loss: 0.1223 - accuracy: 0.9771 - val_loss: 0.2020 - val_accuracy: 0.9268\n",
      "Epoch 10/15\n",
      "33/33 - 0s - loss: 0.0873 - accuracy: 0.9848 - val_loss: 0.1855 - val_accuracy: 0.9335\n",
      "Epoch 11/15\n",
      "33/33 - 0s - loss: 0.0665 - accuracy: 0.9876 - val_loss: 0.1764 - val_accuracy: 0.9290\n",
      "Epoch 12/15\n",
      "33/33 - 0s - loss: 0.0526 - accuracy: 0.9952 - val_loss: 0.1723 - val_accuracy: 0.9357\n",
      "Epoch 13/15\n",
      "33/33 - 0s - loss: 0.0406 - accuracy: 0.9933 - val_loss: 0.1674 - val_accuracy: 0.9268\n",
      "Epoch 14/15\n",
      "33/33 - 0s - loss: 0.0329 - accuracy: 0.9971 - val_loss: 0.1656 - val_accuracy: 0.9290\n",
      "Epoch 15/15\n",
      "33/33 - 0s - loss: 0.0270 - accuracy: 0.9962 - val_loss: 0.1780 - val_accuracy: 0.9335\n"
     ]
    }
   ],
   "source": [
    "from iop_NLP import iopNLP\n",
    "test = iopNLP()\n",
    "test.main()"
   ]
  },
  {
   "cell_type": "code",
   "execution_count": 3,
   "metadata": {},
   "outputs": [
    {
     "data": {
      "text/plain": [
       "array([[0.8277051]], dtype=float32)"
      ]
     },
     "execution_count": 3,
     "metadata": {},
     "output_type": "execute_result"
    }
   ],
   "source": [
    "test.predict_sentences([\"\"\"The exponential growth of literature is constraining researchers' access to comprehensive information in related fields. While natural language processing may offer an effective solution, it remains hindered by the lack of datasets. In this article, we introduce a novel method for generating literature classification models through semi-supervised learning. We apply this method to battery, superconducting, topological, and AI in material science, and we achieve promising results. Importantly, our approach demonstrates that even with insufficient data, the initial model can facilitate understanding the relationships between different research fields.\"\"\"])"
   ]
  }
 ],
 "metadata": {
  "kernelspec": {
   "display_name": "tf-gpu",
   "language": "python",
   "name": "python3"
  },
  "language_info": {
   "codemirror_mode": {
    "name": "ipython",
    "version": 3
   },
   "file_extension": ".py",
   "mimetype": "text/x-python",
   "name": "python",
   "nbconvert_exporter": "python",
   "pygments_lexer": "ipython3",
   "version": "3.9.0"
  },
  "orig_nbformat": 4
 },
 "nbformat": 4,
 "nbformat_minor": 2
}
